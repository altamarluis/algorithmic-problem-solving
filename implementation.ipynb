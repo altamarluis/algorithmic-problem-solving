{
 "cells": [
  {
   "cell_type": "markdown",
   "id": "b4c6abcf",
   "metadata": {},
   "source": [
    "# Testing Framework"
   ]
  },
  {
   "cell_type": "code",
   "execution_count": 5,
   "id": "587e128d",
   "metadata": {},
   "outputs": [],
   "source": [
    "# =============================\n",
    "# GENERIC TESTING FRAMEWORK\n",
    "# =============================\n",
    "from io import StringIO\n",
    "from unittest.mock import patch\n",
    "import contextlib\n",
    "\n",
    "def run_test_case(inp: str, expected: str):\n",
    "    \"\"\"\n",
    "    Ejecuta solve() con un input dado y compara con el output esperado.\n",
    "    inp: string con la entrada, tal como se escribiría en consola.\n",
    "    expected: string con la salida esperada (sin espacios extra).\n",
    "    \"\"\"\n",
    "    buf = StringIO()\n",
    "    with patch(\"builtins.input\", side_effect=inp.strip().split(\"\\n\")):\n",
    "        with contextlib.redirect_stdout(buf):\n",
    "            solve()\n",
    "    output = buf.getvalue().strip()\n",
    "    if output == expected.strip():\n",
    "        print(f\"✅ Passed | Input: {inp.strip()} | Output: {output}\")\n",
    "    else:\n",
    "        print(f\"❌ Failed | Input: {inp.strip()} | Expected: {expected} | Got: {output}\")\n",
    "\n",
    "def test_solve(test_cases):\n",
    "    \"\"\"\n",
    "    Ejecuta una lista de casos de prueba sobre solve().\n",
    "    test_cases: lista de tuplas (input_str, expected_output_str)\n",
    "    \"\"\"\n",
    "    for i, (inp, expected) in enumerate(test_cases, 1):\n",
    "        run_test_case(inp, expected)"
   ]
  },
  {
   "cell_type": "markdown",
   "id": "92dcddb0",
   "metadata": {},
   "source": [
    "# 800 Difficulty"
   ]
  },
  {
   "cell_type": "markdown",
   "id": "605c8f92",
   "metadata": {},
   "source": [
    "## 🐻 A. Bear and Big Brother  \n",
    "\n",
    "**Time limit per test:** 1 second  \n",
    "**Memory limit per test:** 256 megabytes  \n",
    "\n",
    "---"
   ]
  },
  {
   "cell_type": "markdown",
   "id": "6d73a861",
   "metadata": {},
   "source": [
    "\n",
    "\n",
    "### 📖 Description  \n",
    "\n",
    "Bear Limak wants to become the largest of bears, or at least to become larger than his brother Bob.  \n",
    "\n",
    "Right now, Limak and Bob weigh `a` and `b` respectively.  \n",
    "It's guaranteed that Limak's weight is smaller than or equal to his brother's weight.  \n",
    "\n",
    "Limak eats a lot and his weight is tripled after every year, while Bob's weight is doubled after every year.  \n",
    "\n",
    "👉 After how many full years will Limak become strictly larger (strictly heavier) than Bob?  \n",
    "\n",
    "---\n",
    "\n",
    "### 📥 Input  \n",
    "\n",
    "The only line of the input contains two integers `a` and `b`:  \n",
    "1 ≤ a ≤ b ≤ 10\n",
    "\n",
    "- `a` → Limak's weight  \n",
    "- `b` → Bob's weight  \n",
    "\n",
    "---\n",
    "\n",
    "### 📤 Output  \n",
    "\n",
    "Print one integer, denoting the integer number of years after which Limak will become strictly larger than Bob.  \n",
    "\n",
    "---\n"
   ]
  },
  {
   "cell_type": "code",
   "execution_count": 6,
   "id": "3c69c669",
   "metadata": {},
   "outputs": [],
   "source": [
    "def solve():\n",
    "    a, b = map(int,input().split())\n",
    "    c = 0\n",
    "    while a <= b:\n",
    "        a*=3\n",
    "        b*=2\n",
    "        c+=1\n",
    "    \n",
    "    print(c)"
   ]
  },
  {
   "cell_type": "code",
   "execution_count": null,
   "id": "f1669d60",
   "metadata": {},
   "outputs": [
    {
     "name": "stdout",
     "output_type": "stream",
     "text": [
      "✅ Passed | Input: 4 7 | Output: 2\n",
      "✅ Passed | Input: 1 1 | Output: 1\n",
      "✅ Passed | Input: 2 10 | Output: 4\n",
      "✅ Passed | Input: 1 10 | Output: 6\n",
      "✅ Passed | Input: 10 10 | Output: 1\n"
     ]
    }
   ],
   "source": [
    "test_cases = [\n",
    "    (\"4 7\", \"2\"),\n",
    "    (\"1 1\", \"1\"),\n",
    "    (\"2 10\", \"4\"),\n",
    "    (\"1 10\", \"6\"),\n",
    "    (\"10 10\", \"1\"),\n",
    "]\n",
    "\n",
    "test_solve(test_cases)"
   ]
  },
  {
   "cell_type": "markdown",
   "id": "f1e09330",
   "metadata": {},
   "source": [
    "# 900 Difficulty"
   ]
  },
  {
   "cell_type": "markdown",
   "id": "01ac0c80",
   "metadata": {},
   "source": [
    "## 🍪 A. Cookies  \n",
    "\n",
    "**Time limit per test:** 2 seconds  \n",
    "**Memory limit per test:** 256 megabytes  \n",
    "\n",
    "---"
   ]
  },
  {
   "cell_type": "markdown",
   "id": "edf7ea01",
   "metadata": {},
   "source": [
    "### 📖 Description  \n",
    "\n",
    "Olga came to visit the twins Anna and Maria and saw that they have many cookies. The cookies are distributed into bags.  \n",
    "\n",
    "As there are many cookies, Olga decided that it's no big deal if she steals a bag. However, she doesn't want the sisters to quarrel because of nothing when they divide the cookies.  \n",
    "\n",
    "That's why Olga wants to steal a bag with cookies so that the number of cookies in the remaining bags was even, that is, so that Anna and Maria could evenly divide it into two (even 0 remaining cookies will do, just as any other even number).  \n",
    "\n",
    "👉 How many ways are there to steal exactly one cookie bag so that the total number of cookies in the remaining bags is even?  \n",
    "\n",
    "---\n",
    "\n",
    "### 📥 Input  \n",
    "\n",
    "- The first line contains the only integer `n` (1 ≤ n ≤ 100) — the number of cookie bags Anna and Maria have.  \n",
    "- The second line contains `n` integers `ai` (1 ≤ ai ≤ 100) — the number of cookies in the i-th bag.  \n",
    "\n",
    "---\n",
    "\n",
    "### 📤 Output  \n",
    "\n",
    "Print in the only line the only number — the sought number of ways.  \n",
    "If there are no such ways, print `0`.  \n",
    "\n",
    "---\n"
   ]
  },
  {
   "cell_type": "code",
   "execution_count": 8,
   "id": "89dc6f16",
   "metadata": {},
   "outputs": [],
   "source": [
    "def solve():\n",
    "    n = int(input())\n",
    "    bag = list(map(int, input().split()))\n",
    "\n",
    "    even = 0\n",
    "    odd = 0\n",
    "\n",
    "    for i in range(n):\n",
    "        if bag[i]%2 == 0:\n",
    "            even+=1\n",
    "        else:\n",
    "            odd+=1\n",
    "    \n",
    "    if odd == 0 or odd%2 == 0:\n",
    "        print(even)\n",
    "    else:\n",
    "        print(odd)\n",
    "\n"
   ]
  },
  {
   "cell_type": "code",
   "execution_count": 11,
   "id": "8bab9998",
   "metadata": {},
   "outputs": [
    {
     "name": "stdout",
     "output_type": "stream",
     "text": [
      "✅ Passed | Input: 3\n",
      "1 2 3 | Output: 1\n",
      "✅ Passed | Input: 2\n",
      "2 4 | Output: 2\n",
      "✅ Passed | Input: 3\n",
      "1 2 4 | Output: 1\n",
      "✅ Passed | Input: 3\n",
      "1 3 5 | Output: 3\n",
      "✅ Passed | Input: 1\n",
      "7 | Output: 1\n",
      "✅ Passed | Input: 1\n",
      "6 | Output: 1\n",
      "✅ Passed | Input: 5\n",
      "100 99 98 97 96 | Output: 3\n",
      "✅ Passed | Input: 4\n",
      "2 2 2 2 | Output: 4\n"
     ]
    }
   ],
   "source": [
    "test_cases = [\n",
    "    (\"3\\n1 2 3\\n\", \"1\"),\n",
    "    (\"2\\n2 4\\n\", \"2\"),\n",
    "    (\"3\\n1 2 4\\n\", \"1\"),\n",
    "    (\"3\\n1 3 5\\n\", \"3\"),\n",
    "    (\"1\\n7\\n\", \"1\"),\n",
    "    (\"1\\n6\\n\", \"1\"),\n",
    "    (\"5\\n100 99 98 97 96\\n\", \"3\"),\n",
    "    (\"4\\n2 2 2 2\\n\", \"4\"),\n",
    "]\n",
    "test_solve(test_cases)"
   ]
  },
  {
   "cell_type": "markdown",
   "id": "52765022",
   "metadata": {},
   "source": [
    "# 1000 Difficulty"
   ]
  },
  {
   "cell_type": "markdown",
   "id": "d1841256",
   "metadata": {},
   "source": [
    "## 🔵 A. Circle of Students  \n",
    "\n",
    "**Time limit per test:** 2 seconds  \n",
    "**Memory limit per test:** 256 megabytes  \n",
    "\n",
    "---"
   ]
  },
  {
   "cell_type": "markdown",
   "id": "b2ad20e3",
   "metadata": {},
   "source": [
    "\n",
    "### 📖 Description  \n",
    "\n",
    "There are `n` students standing in a circle in some order.  \n",
    "The index of the *i*-th student is `pi`. It is guaranteed that all indices of students are distinct integers from `1` to `n` (i.e., they form a permutation).  \n",
    "\n",
    "Students want to start a round dance:  \n",
    "\n",
    "- A **clockwise** round dance can be started if student `2` comes right after student `1` in clockwise order, student `3` comes right after student `2`, and so on, until student `n` comes right after student `n−1`.  \n",
    "- A **counterclockwise** round dance is similar, but in the opposite direction — student `i` should be right after student `i−1` in counterclockwise order, for every `i` from `2` to `n`.  \n",
    "\n",
    "For example:  \n",
    "- If the clockwise order is `[2, 3, 4, 5, 1]`, they can start a **clockwise** round dance.  \n",
    "- If the clockwise order is `[3, 2, 1, 4]`, they can start a **counterclockwise** round dance.  \n",
    "\n",
    "👉 Your task is to determine whether it is possible to start a round dance.  \n",
    "\n",
    "⚠️ The students cannot change their positions before starting the dance: no swaps, no leaving, and no new students can join.  \n",
    "\n",
    "You have to answer `q` independent queries.  \n",
    "\n",
    "---\n",
    "\n",
    "### 📥 Input  \n",
    "\n",
    "- The first line contains one integer `q` (1 ≤ q ≤ 200) — the number of queries.  \n",
    "- Each query contains:  \n",
    "  - An integer `n` (1 ≤ n ≤ 200) — the number of students.  \n",
    "  - A permutation `p1, p2, …, pn` (1 ≤ pi ≤ n) — the indices of the students in clockwise order.  \n",
    "\n",
    "---\n",
    "\n",
    "### 📤 Output  \n",
    "\n",
    "For each query, print the answer:  \n",
    "- Print `\"YES\"` if a round dance can be started with the given order of students.  \n",
    "- Otherwise, print `\"NO\"`.  \n",
    "\n",
    "---\n"
   ]
  },
  {
   "cell_type": "code",
   "execution_count": 18,
   "id": "4a1cfff2",
   "metadata": {},
   "outputs": [],
   "source": [
    "def solve():\n",
    "    cases = int(input())\n",
    "\n",
    "    for i in range(cases):\n",
    "        students = int(input())\n",
    "        circle = list(map(int,input().split()))\n",
    "        clockwise = True\n",
    "        counterclockwise = True\n",
    "        for j in range(1,students):\n",
    "            if clockwise:\n",
    "                if circle[j] - circle[j-1] != 1 and circle[j-1] - circle[j] != students - 1:\n",
    "                    clockwise = False\n",
    "            if counterclockwise:\n",
    "                 if circle[j-1] - circle[j] != 1 and circle[j] - circle[j-1] != students - 1:\n",
    "                    counterclockwise = False\n",
    "            if not clockwise and not counterclockwise:\n",
    "                break\n",
    "\n",
    "        if clockwise or counterclockwise:\n",
    "            print(\"YES\")\n",
    "        else:\n",
    "            print(\"NO\")\n",
    "\n"
   ]
  },
  {
   "cell_type": "code",
   "execution_count": 20,
   "id": "73b6f212",
   "metadata": {},
   "outputs": [
    {
     "name": "stdout",
     "output_type": "stream",
     "text": [
      "✅ Passed | Input: 1\n",
      "5\n",
      "2 3 4 5 1 | Output: YES\n",
      "✅ Passed | Input: 1\n",
      "4\n",
      "3 2 1 4 | Output: YES\n",
      "✅ Passed | Input: 1\n",
      "4\n",
      "1 3 2 4 | Output: NO\n",
      "✅ Passed | Input: 1\n",
      "6\n",
      "4 3 2 1 6 5 | Output: YES\n",
      "✅ Passed | Input: 1\n",
      "3\n",
      "1 2 3 | Output: YES\n",
      "✅ Passed | Input: 1\n",
      "3\n",
      "3 2 1 | Output: YES\n",
      "✅ Passed | Input: 1\n",
      "5\n",
      "1 5 4 3 2 | Output: YES\n",
      "✅ Passed | Input: 1\n",
      "5\n",
      "2 1 3 4 5 | Output: NO\n"
     ]
    }
   ],
   "source": [
    "test_cases = [\n",
    "    (\"1\\n5\\n2 3 4 5 1\\n\", \"YES\"),\n",
    "    (\"1\\n4\\n3 2 1 4\\n\", \"YES\"),\n",
    "    (\"1\\n4\\n1 3 2 4\\n\", \"NO\"),\n",
    "    (\"1\\n6\\n4 3 2 1 6 5\\n\", \"YES\"),\n",
    "    (\"1\\n3\\n1 2 3\\n\", \"YES\"),\n",
    "    (\"1\\n3\\n3 2 1\\n\", \"YES\"),\n",
    "    (\"1\\n5\\n1 5 4 3 2\\n\", \"YES\"),\n",
    "    (\"1\\n5\\n2 1 3 4 5\\n\", \"NO\"),\n",
    "]\n",
    "test_solve(test_cases)"
   ]
  },
  {
   "cell_type": "markdown",
   "id": "a564dfc2",
   "metadata": {},
   "source": [
    "# 1100 Difficulty"
   ]
  },
  {
   "cell_type": "markdown",
   "id": "7656b74f",
   "metadata": {},
   "source": [
    "## 🚀 B. Effective Approach  \n",
    "\n",
    "**Time limit per test:** 2 seconds  \n",
    "**Memory limit per test:** 256 megabytes  \n",
    "\n",
    "---"
   ]
  },
  {
   "cell_type": "markdown",
   "id": "b43d9f14",
   "metadata": {},
   "source": [
    "Once at a team training Vasya, Petya and Sasha got a problem on implementing linear search in an array.  \n",
    "\n",
    "According to the boys, linear search works as follows: the array elements in a pre-selected order are compared one by one with the number to find. Once the required element is found, the search ends. The efficiency of the algorithm is measured by the number of performed comparisons — the fewer comparisons, the more effective it is.  \n",
    "\n",
    "- Vasya believes the search is better if it iterates from the **first element to the last**.  \n",
    "- Petya believes the search is better if it iterates from the **last element to the first**.  \n",
    "- Sasha argues that both approaches are equivalent.  \n",
    "\n",
    "To resolve the dispute, they decided to compare the two approaches on an example. They took an array that is a **permutation of integers from 1 to n**, and generated `m` queries of the form: find element with value `bi` in the array.  \n",
    "\n",
    "They want to calculate how many comparisons in total each approach would need:  \n",
    "- If Vasya’s approach requires fewer comparisons, then Vasya wins.  \n",
    "- If Petya’s requires fewer, then Petya wins.  \n",
    "- If both require the same number, then Sasha wins.  \n",
    "\n",
    "Your task is to help them determine the number of comparisons for both approaches.  \n",
    "\n",
    "---\n",
    "\n",
    "### Input  \n",
    "\n",
    "- The first line contains an integer `n` (1 ≤ n ≤ 10⁵) — the number of elements in the array.  \n",
    "- The second line contains `n` distinct space-separated integers `a1, a2, ..., an` (1 ≤ ai ≤ n) — the elements of the array.  \n",
    "- The third line contains an integer `m` (1 ≤ m ≤ 10⁵) — the number of queries.  \n",
    "- The fourth line contains `m` space-separated integers `b1, b2, ..., bm` (1 ≤ bi ≤ n) — the search queries. Queries can repeat.  \n",
    "\n",
    "---\n",
    "\n",
    "### Output  \n",
    "\n",
    "Print two integers separated by a space:  \n",
    "- The total number of comparisons using Vasya’s approach.  \n",
    "- The total number of comparisons using Petya’s approach.  \n"
   ]
  },
  {
   "cell_type": "code",
   "execution_count": null,
   "id": "9149cbd2",
   "metadata": {},
   "outputs": [],
   "source": [
    "def solve():\n",
    "    n = int(input())\n",
    "    listnumbers = list(map(int,input().split()))\n",
    "    m = int(input())\n",
    "    queries = list(map(int,input().split()))\n",
    "\n",
    "    number = {}\n",
    "    for i in range(n):\n",
    "        number[listnumbers[i]] = i\n",
    "  \n",
    "    vasya = 0\n",
    "    petya = 0\n",
    "    for j in range(m):\n",
    "        position = number[queries[j]]\n",
    "        vasya += position + 1\n",
    "        petya += n - position\n",
    "\n",
    "    print(vasya,petya)\n"
   ]
  },
  {
   "cell_type": "code",
   "execution_count": 30,
   "id": "50bc2def",
   "metadata": {},
   "outputs": [
    {
     "name": "stdout",
     "output_type": "stream",
     "text": [
      "{1: 0, 2: 1} 1\n",
      "1 2\n"
     ]
    }
   ],
   "source": [
    "solve()"
   ]
  }
 ],
 "metadata": {
  "kernelspec": {
   "display_name": ".venv",
   "language": "python",
   "name": "python3"
  },
  "language_info": {
   "codemirror_mode": {
    "name": "ipython",
    "version": 3
   },
   "file_extension": ".py",
   "mimetype": "text/x-python",
   "name": "python",
   "nbconvert_exporter": "python",
   "pygments_lexer": "ipython3",
   "version": "3.12.10"
  }
 },
 "nbformat": 4,
 "nbformat_minor": 5
}
